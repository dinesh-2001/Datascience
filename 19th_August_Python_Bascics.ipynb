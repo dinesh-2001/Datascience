{
 "cells": [
  {
   "cell_type": "markdown",
   "id": "c83b636d",
   "metadata": {},
   "source": [
    "# Declare two variables, `x` and `y`, and assign them integer values.\n",
    "# Swap the values of these variables without using any temporary\n",
    "# variable."
   ]
  },
  {
   "cell_type": "code",
   "execution_count": 1,
   "id": "7f584c52",
   "metadata": {},
   "outputs": [
    {
     "name": "stdout",
     "output_type": "stream",
     "text": [
      "20 10\n"
     ]
    }
   ],
   "source": [
    "x = 10 \n",
    "y = 20\n",
    "x , y = y ,x \n",
    "print(x,y)"
   ]
  },
  {
   "cell_type": "markdown",
   "id": "596bd914",
   "metadata": {},
   "source": [
    "# Create a program that calculates the area of a rectangle. Take the\n",
    "# length and width as inputs from the user and store them in variables.\n",
    "# Calculate and display the area.\n"
   ]
  },
  {
   "cell_type": "code",
   "execution_count": null,
   "id": "7b8073f9",
   "metadata": {},
   "outputs": [],
   "source": [
    "Length = int(input())\n",
    "Width = int(input())\n",
    "area = Length * Width\n",
    "print(area)"
   ]
  },
  {
   "cell_type": "markdown",
   "id": "b138a5cb",
   "metadata": {},
   "source": [
    "# Write a Python program that converts temperature from Celsius to\n",
    "# Fahrenheit. Take the temperature in Celsius as input, store it in a\n",
    "# variable, convert it to Fahrenheit, and display the result."
   ]
  },
  {
   "cell_type": "code",
   "execution_count": 2,
   "id": "9447d104",
   "metadata": {},
   "outputs": [
    {
     "name": "stdout",
     "output_type": "stream",
     "text": [
      "30\n",
      "86.0\n"
     ]
    }
   ],
   "source": [
    "celsius = float(input())\n",
    "fahrenheit = (celsius * (9/5)) + 32\n",
    "print(fahrenheit)"
   ]
  },
  {
   "cell_type": "markdown",
   "id": "3981392b",
   "metadata": {},
   "source": [
    "# Write a Python program that takes a string as input and prints the\n",
    "# length of the string."
   ]
  },
  {
   "cell_type": "code",
   "execution_count": 4,
   "id": "bacaa0a7",
   "metadata": {},
   "outputs": [
    {
     "name": "stdout",
     "output_type": "stream",
     "text": [
      "dinesh\n",
      "6\n"
     ]
    }
   ],
   "source": [
    "string = input()\n",
    "print(len(string))"
   ]
  },
  {
   "cell_type": "markdown",
   "id": "6e9a358e",
   "metadata": {},
   "source": [
    "# Create a program that takes a sentence from the user and counts the\n",
    "# number of vowels (a, e, i, o, u) in the string."
   ]
  },
  {
   "cell_type": "code",
   "execution_count": 5,
   "id": "5af4931f",
   "metadata": {},
   "outputs": [
    {
     "name": "stdout",
     "output_type": "stream",
     "text": [
      "my name is dinesh\n",
      "5\n"
     ]
    }
   ],
   "source": [
    "string = input()\n",
    "count = 0\n",
    "vowels = \"aeiouAEIOU\"\n",
    "for i in string:\n",
    "    if i in vowels:\n",
    "        count+=1\n",
    "print(count)\n",
    "    "
   ]
  },
  {
   "cell_type": "markdown",
   "id": "d83aef40",
   "metadata": {},
   "source": [
    "# Given a string, reverse the order of characters using string slicing and\n",
    "# print the reversed string."
   ]
  },
  {
   "cell_type": "code",
   "execution_count": 6,
   "id": "4740f86f",
   "metadata": {},
   "outputs": [
    {
     "name": "stdout",
     "output_type": "stream",
     "text": [
      "slliksWP\n"
     ]
    }
   ],
   "source": [
    "string = input()\n",
    "print(string[::-1])"
   ]
  },
  {
   "cell_type": "markdown",
   "id": "311f80dd",
   "metadata": {},
   "source": [
    "# Write a program that takes a string as input and checks if it is a\n",
    "# palindrome (reads the same forwards and backwards)."
   ]
  },
  {
   "cell_type": "code",
   "execution_count": 11,
   "id": "64a40990",
   "metadata": {},
   "outputs": [
    {
     "name": "stdout",
     "output_type": "stream",
     "text": [
      "baabaa\n",
      "not a palindrome\n"
     ]
    }
   ],
   "source": [
    "string = input()\n",
    "if string == string[::-1]:\n",
    "    print(\"palindrome\")\n",
    "else:\n",
    "    print(\"not a palindrome\")"
   ]
  },
  {
   "cell_type": "markdown",
   "id": "85e695d5",
   "metadata": {},
   "source": [
    "# Create a program that takes a string as input and removes all the\n",
    "# spaces from it. Print the modified string without spaces."
   ]
  },
  {
   "cell_type": "code",
   "execution_count": 12,
   "id": "f24dc7a4",
   "metadata": {},
   "outputs": [
    {
     "name": "stdout",
     "output_type": "stream",
     "text": [
      "dinesh kumar\n",
      "dineshkumar\n"
     ]
    }
   ],
   "source": [
    "string = input()\n",
    "print(string.replace(\" \",\"\"))"
   ]
  },
  {
   "cell_type": "code",
   "execution_count": null,
   "id": "131f2b35",
   "metadata": {},
   "outputs": [],
   "source": []
  }
 ],
 "metadata": {
  "kernelspec": {
   "display_name": "Python 3 (ipykernel)",
   "language": "python",
   "name": "python3"
  },
  "language_info": {
   "codemirror_mode": {
    "name": "ipython",
    "version": 3
   },
   "file_extension": ".py",
   "mimetype": "text/x-python",
   "name": "python",
   "nbconvert_exporter": "python",
   "pygments_lexer": "ipython3",
   "version": "3.10.9"
  }
 },
 "nbformat": 4,
 "nbformat_minor": 5
}
